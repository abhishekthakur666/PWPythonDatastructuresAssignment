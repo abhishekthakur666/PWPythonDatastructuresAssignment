{
 "cells": [
  {
   "cell_type": "markdown",
   "id": "e6f6cef2-039d-41f4-a97b-5d77d1750b0c",
   "metadata": {},
   "source": [
    "# 1. Discuss string slicing and provide examples"
   ]
  },
  {
   "cell_type": "code",
   "execution_count": 12,
   "id": "d9844820-7a54-4eb3-bbc8-1a67e0418975",
   "metadata": {},
   "outputs": [],
   "source": [
    "# String in python is equivalent to storing characters in an array.\n",
    "# Since String datatype is immutable, string has fixed length and can be iterated from index 0 to len(str) - 1\n",
    "# This allows string to be sliced to partions of any len betwen 0 index to last index.Besides individual element can also be accessed from string using index\n",
    "# String can be sliced using 2 methods one using slice method, second using array slicing method [start:end:step_count]"
   ]
  },
  {
   "cell_type": "code",
   "execution_count": 17,
   "id": "bc4ae62e-c0f2-43b3-9eb9-f54a05b14368",
   "metadata": {},
   "outputs": [
    {
     "name": "stdout",
     "output_type": "stream",
     "text": [
      "dlrow olleh\n",
      "llo wor\n"
     ]
    }
   ],
   "source": [
    "x = \"hello world\"\n",
    "print(x[::-1])  # Reverse string\n",
    "\n",
    "x = \"hello world\"\n",
    "print(x[2:-2]) # from second to second last index - 1"
   ]
  },
  {
   "cell_type": "code",
   "execution_count": null,
   "id": "18a875eb-1449-4860-98a7-28292c45c74a",
   "metadata": {},
   "outputs": [],
   "source": []
  },
  {
   "cell_type": "markdown",
   "id": "9cca5d2e-d2fc-4304-b1e3-56ed2256dd45",
   "metadata": {},
   "source": [
    "# 2.Explain the key features of lists in Python"
   ]
  },
  {
   "cell_type": "code",
   "execution_count": 20,
   "id": "faf2de65-51cb-4848-9118-f229b17a27fc",
   "metadata": {},
   "outputs": [],
   "source": [
    "# List can be iterated from index 0 to len(list) - 1\n",
    "# List can be reversed\n",
    "# Items in list are ordered\n",
    "# List can be extended with new item\n",
    "# An item from list can be removed by index or value\n",
    "# An item or it's index can be searched easily in list\n",
    "# List can be concatinated/merged with another list\n",
    "# List comprehension gives easy way to iterate over a list and generate a new list of items"
   ]
  },
  {
   "cell_type": "code",
   "execution_count": null,
   "id": "9ab159e9-ea53-4677-9cf1-c7b2873e02ef",
   "metadata": {},
   "outputs": [],
   "source": []
  },
  {
   "cell_type": "markdown",
   "id": "60eb2184-6154-4551-89a7-0e45ae163501",
   "metadata": {},
   "source": [
    "# 3. Describe how to access, modify, delete items in list with examples"
   ]
  },
  {
   "cell_type": "code",
   "execution_count": 38,
   "id": "c530f15a-f569-4030-8bfe-a33a38c0ed9c",
   "metadata": {},
   "outputs": [
    {
     "name": "stdout",
     "output_type": "stream",
     "text": [
      "d\n",
      "b\n",
      "['k', 'b', 'c', 'd']\n",
      "['k', 'x', 'y', 'd']\n",
      "['k', 'y', 'd']\n",
      "['k', 'y']\n",
      "['k']\n"
     ]
    }
   ],
   "source": [
    "# Access last item of list\n",
    "x = [\"a\",\"b\",\"c\",\"d\"]\n",
    "print(x[-1])\n",
    "\n",
    "# Find item's index and access it using index\n",
    "print(x[x.index(\"b\")])\n",
    "\n",
    "\n",
    "# Modify first item in list\n",
    "x[0] = \"k\"\n",
    "print(x)\n",
    "\n",
    "# Modify multiple items in list\n",
    "x[1:-1] = [\"x\", \"y\"]\n",
    "print(x)\n",
    "\n",
    "\n",
    "# Remove item from list\n",
    "del x[1]\n",
    "print(x)\n",
    "\n",
    "# Remove using remove method\n",
    "x.remove(\"d\")\n",
    "print(x)\n",
    "\n",
    "# pop item from list\n",
    "x.pop()\n",
    "print(x)"
   ]
  },
  {
   "cell_type": "code",
   "execution_count": null,
   "id": "9dcb3e1a-abf7-45be-8b5c-089d0e4cf4d0",
   "metadata": {},
   "outputs": [],
   "source": []
  },
  {
   "cell_type": "markdown",
   "id": "0cb7559a-6107-4305-a948-22483d690c10",
   "metadata": {},
   "source": [
    "# 4. Compare and Contrast tuples and lists with examples"
   ]
  },
  {
   "cell_type": "code",
   "execution_count": 52,
   "id": "d8ce0c5b-46a9-4b9f-bf63-4218f7f4d4ab",
   "metadata": {},
   "outputs": [
    {
     "name": "stdout",
     "output_type": "stream",
     "text": [
      "['a', 'b', 'c', 'z']\n",
      "Error-'tuple' object doesn't support item deletion\n",
      "{(1, 2): 'a', (3, 4): 'b'}\n"
     ]
    }
   ],
   "source": [
    "# 1. List is mutable but tuples are immutable\n",
    "\n",
    "x = [\"a\", \"b\", \"c\", \"d\"]\n",
    "x[-1] = \"z\"\n",
    "print(x)\n",
    "\n",
    "y = (\"a\", \"b\", \"c\")\n",
    "try:\n",
    "   del y[-1] \n",
    "except Exception as ex:\n",
    "    print(f\"Error-{ex}\")\n",
    "    \n",
    "    \n",
    "# 2. Unlike lists, tuple is hashed and hence can be used as a key for a dictionary\n",
    "x = {}\n",
    "x[(1,2)] = \"a\"\n",
    "x[(3,4)] = \"b\"\n",
    "print(x)    "
   ]
  },
  {
   "cell_type": "code",
   "execution_count": null,
   "id": "fbfb0c6e-b601-4730-a1ae-bce6f8777185",
   "metadata": {},
   "outputs": [],
   "source": []
  },
  {
   "cell_type": "markdown",
   "id": "04382c63-c3dd-4155-8faf-d1e2aec70f60",
   "metadata": {},
   "source": [
    "# 5.Describe key features of set and provide example of their use"
   ]
  },
  {
   "cell_type": "code",
   "execution_count": 59,
   "id": "22d21a2a-5b8a-490c-bc15-c9bd5c24fa93",
   "metadata": {},
   "outputs": [
    {
     "name": "stdout",
     "output_type": "stream",
     "text": [
      "{1, 2, 3, 4, 5}\n",
      "{1, 2, 3, 4, 5}\n",
      "1\n",
      "2\n",
      "3\n",
      "4\n",
      "5\n"
     ]
    }
   ],
   "source": [
    "# 1. Uniqueness - Every item in set is unique with dedicated hash value of every item and hence duplicate items cannot be added in set\n",
    "x = {1, 2, 3, 4}\n",
    "x.add(5)\n",
    "print(x)\n",
    "\n",
    "x.add(5)\n",
    "print(x)\n",
    "\n",
    "\n",
    "# 2.Items in set are unordered\n",
    "x = {5, 4, 3, 2, 1}\n",
    "for i in x:\n",
    "    print(i)"
   ]
  },
  {
   "cell_type": "code",
   "execution_count": null,
   "id": "e44abb18-6ed4-4e37-8926-43bbde642788",
   "metadata": {},
   "outputs": [],
   "source": []
  },
  {
   "cell_type": "markdown",
   "id": "24fec271-5ea8-4960-b36b-d155d0b3e3d2",
   "metadata": {},
   "source": [
    "# 6. Discuss the use case of sets and tuples in python programming"
   ]
  },
  {
   "cell_type": "code",
   "execution_count": 60,
   "id": "38f6d7cf-3a7a-438c-9859-b890d205ad24",
   "metadata": {},
   "outputs": [],
   "source": [
    "# 1. Sets -\n",
    "  # Sets are used whenever unique items are fundamental requirement of datastructure \n",
    "  # E.g. Databases - Every entry in the table is unique with employee id, in this cases sets can be used to store unique entry id in set\n",
    "\n",
    "# 2. Tuples\n",
    "  # Tuples are immutable, hence can be used a key for disctionary\n",
    "  # Tuples are used to club common information and store it as entry in table row e.g. (Name, age, address)"
   ]
  },
  {
   "cell_type": "code",
   "execution_count": null,
   "id": "5cac9332-2c2c-4fe2-9dac-bbe4242fdf62",
   "metadata": {},
   "outputs": [],
   "source": []
  },
  {
   "cell_type": "markdown",
   "id": "b68cb3c8-7d88-488c-abdf-b195ce39d541",
   "metadata": {},
   "source": [
    "# 7. Describe how to add, modify and delete items in a dictionary with examples"
   ]
  },
  {
   "cell_type": "code",
   "execution_count": 62,
   "id": "cc460001-762b-4be4-af0e-e52db9af23ab",
   "metadata": {},
   "outputs": [
    {
     "name": "stdout",
     "output_type": "stream",
     "text": [
      "{1: 'a'}\n",
      "{'a': 1, 'b': 2, 'c': 3}\n",
      "{'a': 1, 'b': 4, 'c': 3}\n",
      "{'b': 4, 'c': 3}\n",
      "{}\n"
     ]
    }
   ],
   "source": [
    "# Add item in dictionary\n",
    "x = {}\n",
    "x[1] = \"a\"\n",
    "print(x)\n",
    "\n",
    "y = {\"a\" : 1, \"b\" : 2 , \"c\" : 3}\n",
    "print(y)\n",
    "\n",
    "# modify item in dictionary\n",
    "y[\"b\"] = 4\n",
    "print(y)\n",
    "\n",
    "# delete items in dictionary\n",
    "del y[\"a\"]\n",
    "print(y)\n",
    "\n",
    "y.clear() #remove all items from dictionary\n",
    "print(y)"
   ]
  },
  {
   "cell_type": "code",
   "execution_count": null,
   "id": "9212e56c-8d23-4942-b281-0ae29f7a4610",
   "metadata": {},
   "outputs": [],
   "source": []
  },
  {
   "cell_type": "markdown",
   "id": "ec6bfe26-6b0a-4625-9dd6-c3a18d8f1606",
   "metadata": {},
   "source": [
    "# 8. Discuss the importance of dictonary keys being immutable and provide examples"
   ]
  },
  {
   "cell_type": "code",
   "execution_count": 68,
   "id": "aa54c527-5f3b-4c68-886b-8d8cc8a3d822",
   "metadata": {},
   "outputs": [
    {
     "name": "stdout",
     "output_type": "stream",
     "text": [
      "{'a': 1, 2: 2, (1, 2): 3}\n",
      "False\n",
      "True\n"
     ]
    }
   ],
   "source": [
    "x = {}\n",
    "x[\"a\"]    = 1    # string as dictionary key\n",
    "x[2]      = 2    # integer as dictionary key\n",
    "x[(1,2)]  = 3    # Tuple as dictionary key\n",
    "print(x)\n",
    "\n",
    "# In order to store a key-value pair in dictionary, every key needs to be hased which is possible only for immutable datatypes.\n",
    "# Without datatype being immutable, hashing won't be possible and hence key-value pair cannot be stored\n",
    "# Besides, Having immutable datatype gurantee uniqueness as key cannot be modified later once stored.\n",
    "# Having immutable / hashable key allow faster search of key in dictionary\n",
    "\n",
    "print(\"z\" in x) # z as key is not present in dictionary\n",
    "print(2 in x)  # 2 as key is present in dictionary"
   ]
  },
  {
   "cell_type": "code",
   "execution_count": null,
   "id": "def23598-8c6e-47b6-ad00-550a327141c1",
   "metadata": {},
   "outputs": [],
   "source": []
  }
 ],
 "metadata": {
  "kernelspec": {
   "display_name": "Python 3 (ipykernel)",
   "language": "python",
   "name": "python3"
  },
  "language_info": {
   "codemirror_mode": {
    "name": "ipython",
    "version": 3
   },
   "file_extension": ".py",
   "mimetype": "text/x-python",
   "name": "python",
   "nbconvert_exporter": "python",
   "pygments_lexer": "ipython3",
   "version": "3.10.8"
  }
 },
 "nbformat": 4,
 "nbformat_minor": 5
}
